{
 "cells": [
  {
   "cell_type": "markdown",
   "id": "0b0ecb33",
   "metadata": {},
   "source": [
    "# A.intersection(B) or A & B"
   ]
  },
  {
   "cell_type": "markdown",
   "id": "100a8124",
   "metadata": {},
   "source": [
    "## .intersection()\n",
    "\n",
    "- The .intersection() operator returns the intersection of a set and the set of elements in an iterable.\n",
    "- Sometimes, the & operator is used in place of the .intersection() operator, but it only operates on the set of elements in set.\n",
    "- The set is immutable to the .intersection() operation (or & operation)"
   ]
  },
  {
   "cell_type": "code",
   "execution_count": 1,
   "id": "5048198d",
   "metadata": {},
   "outputs": [
    {
     "name": "stdout",
     "output_type": "stream",
     "text": [
      "['__and__', '__class__', '__contains__', '__delattr__', '__dir__', '__doc__', '__eq__', '__format__', '__ge__', '__getattribute__', '__gt__', '__hash__', '__iand__', '__init__', '__init_subclass__', '__ior__', '__isub__', '__iter__', '__ixor__', '__le__', '__len__', '__lt__', '__ne__', '__new__', '__or__', '__rand__', '__reduce__', '__reduce_ex__', '__repr__', '__ror__', '__rsub__', '__rxor__', '__setattr__', '__sizeof__', '__str__', '__sub__', '__subclasshook__', '__xor__', 'add', 'clear', 'copy', 'difference', 'difference_update', 'discard', 'intersection', 'intersection_update', 'isdisjoint', 'issubset', 'issuperset', 'pop', 'remove', 'symmetric_difference', 'symmetric_difference_update', 'union', 'update']\n"
     ]
    }
   ],
   "source": [
    "print(dir(set))"
   ]
  },
  {
   "cell_type": "code",
   "execution_count": 2,
   "id": "0f37d64e",
   "metadata": {},
   "outputs": [
    {
     "name": "stdout",
     "output_type": "stream",
     "text": [
      "Help on method_descriptor:\n",
      "\n",
      "intersection(...)\n",
      "    Return the intersection of two sets as a new set.\n",
      "    \n",
      "    (i.e. all elements that are in both sets.)\n",
      "\n"
     ]
    }
   ],
   "source": [
    "help(set.intersection)"
   ]
  },
  {
   "cell_type": "markdown",
   "id": "8881806c",
   "metadata": {},
   "source": [
    "# Examples"
   ]
  },
  {
   "cell_type": "code",
   "execution_count": 3,
   "id": "c04c82d5",
   "metadata": {},
   "outputs": [
    {
     "name": "stdout",
     "output_type": "stream",
     "text": [
      "{4, 5, 6, 7, 8, 9}\n"
     ]
    }
   ],
   "source": [
    "set1={1,2,3,4,5,6,7,8,9}\n",
    "set2={4,5,6,7,8,9,10,12}\n",
    "re=set1.intersection(set2)  # Intersection returns common elements in both sets as a new set.\n",
    "print(re)"
   ]
  },
  {
   "cell_type": "code",
   "execution_count": 4,
   "id": "9a813a09",
   "metadata": {},
   "outputs": [
    {
     "name": "stdout",
     "output_type": "stream",
     "text": [
      "{4, 5, 6, 7, 8, 9}\n"
     ]
    }
   ],
   "source": [
    "set1={1,2,3,4,5,6,7,8,9}\n",
    "set2={4,5,6,7,8,9,10,12}\n",
    "re=set1&(set2)  # & operator is used in place of the .intersection() operator, but it only operates on the set of elements in set\n",
    "print(re)"
   ]
  },
  {
   "cell_type": "code",
   "execution_count": 5,
   "id": "7aa724a1",
   "metadata": {},
   "outputs": [
    {
     "name": "stdout",
     "output_type": "stream",
     "text": [
      "{'k', 'a'}\n"
     ]
    }
   ],
   "source": [
    "s = set(\"Hacker\")\n",
    "print(s.intersection(\"Rank\"))"
   ]
  },
  {
   "cell_type": "code",
   "execution_count": 6,
   "id": "7087642c",
   "metadata": {},
   "outputs": [
    {
     "name": "stdout",
     "output_type": "stream",
     "text": [
      "{'k', 'a'}\n"
     ]
    }
   ],
   "source": [
    "print(s.intersection(set(['R', 'a', 'n', 'k'])))"
   ]
  },
  {
   "cell_type": "code",
   "execution_count": 7,
   "id": "cbc2b54b",
   "metadata": {},
   "outputs": [
    {
     "name": "stdout",
     "output_type": "stream",
     "text": [
      "{'k', 'a'}\n"
     ]
    }
   ],
   "source": [
    "print(s.intersection(['R', 'a', 'n', 'k']))   # Here we don't write set."
   ]
  },
  {
   "cell_type": "code",
   "execution_count": 8,
   "id": "2fc4b52c",
   "metadata": {},
   "outputs": [
    {
     "name": "stdout",
     "output_type": "stream",
     "text": [
      "set()\n"
     ]
    }
   ],
   "source": [
    "print(s.intersection(enumerate(['R', 'a', 'n', 'k'])))"
   ]
  },
  {
   "cell_type": "code",
   "execution_count": 9,
   "id": "dbfd0c27",
   "metadata": {},
   "outputs": [
    {
     "name": "stdout",
     "output_type": "stream",
     "text": [
      "set()\n"
     ]
    }
   ],
   "source": [
    "print(s.intersection({\"Rank\":1}))"
   ]
  },
  {
   "cell_type": "code",
   "execution_count": 10,
   "id": "37b57eab",
   "metadata": {},
   "outputs": [
    {
     "data": {
      "text/plain": [
       "{'a', 'k'}"
      ]
     },
     "execution_count": 10,
     "metadata": {},
     "output_type": "execute_result"
    }
   ],
   "source": [
    "s & set(\"Rank\")\n"
   ]
  },
  {
   "cell_type": "markdown",
   "id": "5eb53dbd",
   "metadata": {},
   "source": [
    "# Task\n",
    "\n",
    "- The students of District College have subscriptions to English and French newspapers. Some students have subscribed only to English, some have subscribed only to French, and some have subscribed to both newspapers.\n",
    "\n",
    "- You are given two sets of student roll numbers. One set has subscribed to the English newspaper, one set has subscribed to the French newspaper. Your task is to find the total number of students who have subscribed to both newspapers."
   ]
  },
  {
   "cell_type": "markdown",
   "id": "8fd41ee0",
   "metadata": {},
   "source": [
    "## Input Format\n",
    "\n",
    "- The first line contains n, the number of students who have subscribed to the English newspaper.\n",
    "- The second line contains n space separated roll numbers of those students.\n",
    "- The third line contains b, the number of students who have subscribed to the French newspaper.\n",
    "- The fourth line contains b space separated roll numbers of those students."
   ]
  },
  {
   "cell_type": "markdown",
   "id": "a1a82bb8",
   "metadata": {},
   "source": [
    "### Output Format\n",
    "\n",
    "- Output the total number of students who have subscriptions to **`both`** English and French newspapers."
   ]
  },
  {
   "cell_type": "code",
   "execution_count": null,
   "id": "b7359c37",
   "metadata": {},
   "outputs": [],
   "source": [
    "Sample Input\n",
    "\n",
    "9\n",
    "1 2 3 4 5 6 7 8 9\n",
    "9\n",
    "10 1 2 3 11 21 55 6 8\n",
    "Sample Output\n",
    "\n",
    "5"
   ]
  },
  {
   "cell_type": "markdown",
   "id": "fd130355",
   "metadata": {},
   "source": [
    "## Explanation\n",
    "\n",
    "- The roll numbers of students who have both subscriptions:\n",
    " 1,2,3,6 and 8.\n",
    "- Hence, the total is 5 students."
   ]
  },
  {
   "cell_type": "code",
   "execution_count": 12,
   "id": "66c241c8",
   "metadata": {},
   "outputs": [
    {
     "name": "stdout",
     "output_type": "stream",
     "text": [
      "Enter no. of students who have subscribed to the English newspaper: 9\n",
      "1 2 3 4 5 6 7 8 9\n",
      "Enter no. of students who have subscribed to the French newspaper: 9\n",
      "10 1 2 3 11 21 55 6 8\n",
      "{1, 2, 3, 6, 8}\n"
     ]
    }
   ],
   "source": [
    "n=int(input(\"Enter no. of students who have subscribed to the English newspaper: \"))\n",
    "n1=set(map(int,input().split()))\n",
    "b=int(input(\"Enter no. of students who have subscribed to the French newspaper: \"))\n",
    "b1=set(map(int,(input().split())))\n",
    "\n",
    "\n",
    "result=n1.intersection(b1)\n",
    "print(result)"
   ]
  },
  {
   "cell_type": "code",
   "execution_count": 13,
   "id": "be4777bb",
   "metadata": {},
   "outputs": [
    {
     "name": "stdout",
     "output_type": "stream",
     "text": [
      "Enter no. of students who have subscribed to the English newspaper: 9\n",
      "1 2 3 4 5 6 7 8 9\n",
      "Enter no. of students who have subscribed to the French newspaper: 9\n",
      "10 1 2 3 11 21 55 6 8\n",
      "5\n"
     ]
    }
   ],
   "source": [
    "n=int(input(\"Enter no. of students who have subscribed to the English newspaper: \"))\n",
    "n1=set(map(int,input().split()))\n",
    "b=int(input(\"Enter no. of students who have subscribed to the French newspaper: \"))\n",
    "b1=set(map(int,(input().split())))\n",
    "\n",
    "\n",
    "result=n1.intersection(b1)\n",
    "print(len(result))\n"
   ]
  },
  {
   "cell_type": "code",
   "execution_count": null,
   "id": "382efb38",
   "metadata": {},
   "outputs": [],
   "source": []
  }
 ],
 "metadata": {
  "kernelspec": {
   "display_name": "Python 3",
   "language": "python",
   "name": "python3"
  },
  "language_info": {
   "codemirror_mode": {
    "name": "ipython",
    "version": 3
   },
   "file_extension": ".py",
   "mimetype": "text/x-python",
   "name": "python",
   "nbconvert_exporter": "python",
   "pygments_lexer": "ipython3",
   "version": "3.8.8"
  }
 },
 "nbformat": 4,
 "nbformat_minor": 5
}
